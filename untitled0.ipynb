{
  "nbformat": 4,
  "nbformat_minor": 0,
  "metadata": {
    "colab": {
      "provenance": [],
      "authorship_tag": "ABX9TyN6BANZFurRw6gEL6dLNwaX",
      "include_colab_link": true
    },
    "kernelspec": {
      "name": "python3",
      "display_name": "Python 3"
    },
    "language_info": {
      "name": "python"
    }
  },
  "cells": [
    {
      "cell_type": "markdown",
      "metadata": {
        "id": "view-in-github",
        "colab_type": "text"
      },
      "source": [
        "<a href=\"https://colab.research.google.com/github/thourayaharrabi/thouraya/blob/main/untitled0.ipynb\" target=\"_parent\"><img src=\"https://colab.research.google.com/assets/colab-badge.svg\" alt=\"Open In Colab\"/></a>"
      ]
    },
    {
      "cell_type": "code",
      "source": [
        "import kagglehub\n",
        "\n",
        "# Download latest version\n",
        "path = kagglehub.dataset_download(\"anirudhchauhan/retail-store-inventory-forecasting-dataset\")\n",
        "\n",
        "print(\"Path to dataset files:\", path)"
      ],
      "metadata": {
        "colab": {
          "base_uri": "https://localhost:8080/"
        },
        "id": "hBbnY9ABSopl",
        "outputId": "611cfcce-2791-49b9-af5c-d30b1e271852"
      },
      "execution_count": null,
      "outputs": [
        {
          "output_type": "stream",
          "name": "stdout",
          "text": [
            "Downloading from https://www.kaggle.com/api/v1/datasets/download/anirudhchauhan/retail-store-inventory-forecasting-dataset?dataset_version_number=1...\n"
          ]
        },
        {
          "output_type": "stream",
          "name": "stderr",
          "text": [
            "100%|██████████| 1.51M/1.51M [00:00<00:00, 102MB/s]"
          ]
        },
        {
          "output_type": "stream",
          "name": "stdout",
          "text": [
            "Extracting files...\n",
            "Path to dataset files: /root/.cache/kagglehub/datasets/anirudhchauhan/retail-store-inventory-forecasting-dataset/versions/1\n"
          ]
        },
        {
          "output_type": "stream",
          "name": "stderr",
          "text": [
            "\n"
          ]
        }
      ]
    },
    {
      "cell_type": "markdown",
      "source": [
        "step 1: extract"
      ],
      "metadata": {
        "id": "TtD0-nF_X0gl"
      }
    },
    {
      "cell_type": "code",
      "source": [
        "def extract_dataset(dataset_name: str):\n",
        "    print(\"Extracting dataset...\")\n",
        "    path = kagglehub.dataset_download(dataset_name)\n",
        "    files = [os.path.join(path, file) for file in os.listdir(path) if file.endswith('.csv')]\n",
        "    print(\"Dataset files found:\", files)\n",
        "    dataframes = {file: pd.read_csv(file) for file in files}\n",
        "    print(\"Data extraction complete.\")\n",
        "    return dataframes"
      ],
      "metadata": {
        "id": "a0PuYQLGbZDn"
      },
      "execution_count": null,
      "outputs": []
    },
    {
      "cell_type": "markdown",
      "source": [
        "step2 : transform"
      ],
      "metadata": {
        "id": "csDkIlfvX4cM"
      }
    },
    {
      "cell_type": "code",
      "source": [
        "def transform_data(dataframes: dict):\n",
        "\n",
        "    print(\"Transforming data...\")\n",
        "    transformed_data = {}\n",
        "\n",
        "    for file, df in dataframes.items():\n",
        "        print(f\"Transforming {file}...\")\n",
        "\n",
        "        # 1. Normalize Column Names\n",
        "        df.columns = df.columns.str.strip().str.lower().str.replace(' ', '_')\n",
        "\n",
        "        # 2. Handle Missing Values\n",
        "        if 'sales' in df.columns or 'inventory' in df.columns:\n",
        "            df.fillna({'sales': 0, 'inventory': 0}, inplace=True)\n",
        "        else:\n",
        "            df.fillna(0, inplace=True)\n",
        "\n",
        "        # 3. Calculate Inventory Turnover Ratio\n",
        "        if 'sales' in df.columns and 'inventory' in df.columns:\n",
        "            df['inventory_turnover_ratio'] = df['sales'] / (df['inventory'] + 1e-6)  # Avoid division by zero\n",
        "\n",
        "        # 4. Add Sales Growth Metric\n",
        "        if 'sales' in df.columns:\n",
        "            df['sales_growth'] = df['sales'].pct_change().fillna(0)  # Percentage change in sales\n",
        "\n",
        "        # 5. Remove Duplicate Rows\n",
        "        df.drop_duplicates(inplace=True)\n",
        "\n",
        "        # 6. Convert Date Columns to Datetime Format\n",
        "        for col in df.columns:\n",
        "            if 'date' in col or 'timestamp' in col:\n",
        "                try:\n",
        "                    df[col] = pd.to_datetime(df[col])\n",
        "                except Exception as e:\n",
        "                    print(f\"Warning: Could not convert {col} to datetime. Error: {e}\")\n",
        "\n",
        "        # 7. Add Derived Columns\n",
        "        if 'date' in df.columns:\n",
        "            df['year'] = df['date'].dt.year\n",
        "            df['month'] = df['date'].dt.month\n",
        "\n",
        "        # Add to Transformed Data\n",
        "        transformed_data[file] = df\n",
        "        print(f\"Transformation complete for {file}.\")\n",
        "\n",
        "    print(\"Data transformation complete.\")\n",
        "    return transformed_data\n"
      ],
      "metadata": {
        "id": "2hUyrvZrddQz"
      },
      "execution_count": null,
      "outputs": []
    },
    {
      "cell_type": "markdown",
      "source": [
        "step3: load"
      ],
      "metadata": {
        "id": "tbi5haJ0b0s_"
      }
    },
    {
      "cell_type": "code",
      "source": [
        "def load_data(transformed_data: dict, output_dir: str):\n",
        "    print(\"Loading data...\")\n",
        "    os.makedirs(output_dir, exist_ok=True)\n",
        "    for file, df in transformed_data.items():\n",
        "        output_path = os.path.join(output_dir, os.path.basename(file))\n",
        "        df.to_csv(output_path, index=False)\n",
        "        print(f\"Data loaded to {output_path}.\")\n",
        "    print(\"Data loading complete.\")"
      ],
      "metadata": {
        "id": "of4aSo75dtWd"
      },
      "execution_count": null,
      "outputs": []
    },
    {
      "cell_type": "code",
      "source": [
        "def main():\n",
        "    dataset_name = \"anirudhchauhan/retail-store-inventory-forecasting-dataset\"\n",
        "    output_dir = \"transformed_data\"\n"
      ],
      "metadata": {
        "id": "ZjyCCJTod2cx"
      },
      "execution_count": null,
      "outputs": []
    },
    {
      "cell_type": "code",
      "source": [
        "\n",
        "dataset_name = \"anirudhchauhan/retail-store-inventory-forecasting-dataset\"\n",
        "\n",
        "dataframes = extract_dataset(dataset_name)\n",
        "\n",
        "\n",
        "transformed_data = transform_data(dataframes)\n",
        "\n",
        "\n",
        "output_dir = \"transformed_data\"\n",
        "load_data(transformed_data, output_dir)\n",
        "\n",
        "print(\"ETL process completed successfully.\")\n"
      ],
      "metadata": {
        "colab": {
          "base_uri": "https://localhost:8080/"
        },
        "id": "1O4pgcbYd8jX",
        "outputId": "64d327d0-ceb7-4753-c33c-3d86aa37d132"
      },
      "execution_count": null,
      "outputs": [
        {
          "output_type": "stream",
          "name": "stdout",
          "text": [
            "Extracting dataset...\n",
            "Dataset files found: ['/root/.cache/kagglehub/datasets/anirudhchauhan/retail-store-inventory-forecasting-dataset/versions/1/retail_store_inventory.csv']\n",
            "Data extraction complete.\n",
            "Transforming data...\n",
            "Transforming /root/.cache/kagglehub/datasets/anirudhchauhan/retail-store-inventory-forecasting-dataset/versions/1/retail_store_inventory.csv...\n",
            "Transformation complete for /root/.cache/kagglehub/datasets/anirudhchauhan/retail-store-inventory-forecasting-dataset/versions/1/retail_store_inventory.csv.\n",
            "Data transformation complete.\n",
            "Loading data...\n",
            "Data loaded to transformed_data/retail_store_inventory.csv.\n",
            "Data loading complete.\n",
            "ETL process completed successfully.\n"
          ]
        }
      ]
    },
    {
      "cell_type": "code",
      "source": [
        "!pip install mysql-connector-python\n"
      ],
      "metadata": {
        "colab": {
          "base_uri": "https://localhost:8080/"
        },
        "id": "Q5Lv6rEfrrD0",
        "outputId": "9865d6c0-2c94-45a3-ac29-ad16c91a2729"
      },
      "execution_count": null,
      "outputs": [
        {
          "output_type": "stream",
          "name": "stdout",
          "text": [
            "Collecting mysql-connector-python\n",
            "  Downloading mysql_connector_python-9.2.0-cp311-cp311-manylinux_2_28_x86_64.whl.metadata (6.0 kB)\n",
            "Downloading mysql_connector_python-9.2.0-cp311-cp311-manylinux_2_28_x86_64.whl (34.0 MB)\n",
            "\u001b[2K   \u001b[90m━━━━━━━━━━━━━━━━━━━━━━━━━━━━━━━━━━━━━━━━\u001b[0m \u001b[32m34.0/34.0 MB\u001b[0m \u001b[31m23.5 MB/s\u001b[0m eta \u001b[36m0:00:00\u001b[0m\n",
            "\u001b[?25hInstalling collected packages: mysql-connector-python\n",
            "Successfully installed mysql-connector-python-9.2.0\n"
          ]
        }
      ]
    },
    {
      "cell_type": "code",
      "source": [
        "import pandas as pd\n",
        "import os\n",
        "\n",
        "\n",
        "df = list(transformed_data.values())[0]\n",
        "\n",
        "\n",
        "\n",
        "processed_data_path = '/content/processed_data.csv'\n",
        "df.to_csv(processed_data_path, index=False)\n",
        "\n",
        "print(f\"Processed data saved to: {processed_data_path}\")"
      ],
      "metadata": {
        "colab": {
          "base_uri": "https://localhost:8080/"
        },
        "id": "_LbjUFeSwOij",
        "outputId": "8721560f-e254-4d1e-f296-d56861b0d74a"
      },
      "execution_count": null,
      "outputs": [
        {
          "output_type": "stream",
          "name": "stdout",
          "text": [
            "Processed data saved to: /content/processed_data.csv\n"
          ]
        }
      ]
    },
    {
      "cell_type": "code",
      "source": [
        "from google.colab import files\n",
        "uploaded = files.upload()\n"
      ],
      "metadata": {
        "colab": {
          "base_uri": "https://localhost:8080/",
          "height": 38
        },
        "id": "v2Y1ACKOwpGt",
        "outputId": "fbfb5dd5-921c-499c-cd96-135b8b874440"
      },
      "execution_count": null,
      "outputs": [
        {
          "output_type": "display_data",
          "data": {
            "text/plain": [
              "<IPython.core.display.HTML object>"
            ],
            "text/html": [
              "\n",
              "     <input type=\"file\" id=\"files-fa9ea2b4-ba2b-4e25-a496-32879f02cf20\" name=\"files[]\" multiple disabled\n",
              "        style=\"border:none\" />\n",
              "     <output id=\"result-fa9ea2b4-ba2b-4e25-a496-32879f02cf20\">\n",
              "      Upload widget is only available when the cell has been executed in the\n",
              "      current browser session. Please rerun this cell to enable.\n",
              "      </output>\n",
              "      <script>// Copyright 2017 Google LLC\n",
              "//\n",
              "// Licensed under the Apache License, Version 2.0 (the \"License\");\n",
              "// you may not use this file except in compliance with the License.\n",
              "// You may obtain a copy of the License at\n",
              "//\n",
              "//      http://www.apache.org/licenses/LICENSE-2.0\n",
              "//\n",
              "// Unless required by applicable law or agreed to in writing, software\n",
              "// distributed under the License is distributed on an \"AS IS\" BASIS,\n",
              "// WITHOUT WARRANTIES OR CONDITIONS OF ANY KIND, either express or implied.\n",
              "// See the License for the specific language governing permissions and\n",
              "// limitations under the License.\n",
              "\n",
              "/**\n",
              " * @fileoverview Helpers for google.colab Python module.\n",
              " */\n",
              "(function(scope) {\n",
              "function span(text, styleAttributes = {}) {\n",
              "  const element = document.createElement('span');\n",
              "  element.textContent = text;\n",
              "  for (const key of Object.keys(styleAttributes)) {\n",
              "    element.style[key] = styleAttributes[key];\n",
              "  }\n",
              "  return element;\n",
              "}\n",
              "\n",
              "// Max number of bytes which will be uploaded at a time.\n",
              "const MAX_PAYLOAD_SIZE = 100 * 1024;\n",
              "\n",
              "function _uploadFiles(inputId, outputId) {\n",
              "  const steps = uploadFilesStep(inputId, outputId);\n",
              "  const outputElement = document.getElementById(outputId);\n",
              "  // Cache steps on the outputElement to make it available for the next call\n",
              "  // to uploadFilesContinue from Python.\n",
              "  outputElement.steps = steps;\n",
              "\n",
              "  return _uploadFilesContinue(outputId);\n",
              "}\n",
              "\n",
              "// This is roughly an async generator (not supported in the browser yet),\n",
              "// where there are multiple asynchronous steps and the Python side is going\n",
              "// to poll for completion of each step.\n",
              "// This uses a Promise to block the python side on completion of each step,\n",
              "// then passes the result of the previous step as the input to the next step.\n",
              "function _uploadFilesContinue(outputId) {\n",
              "  const outputElement = document.getElementById(outputId);\n",
              "  const steps = outputElement.steps;\n",
              "\n",
              "  const next = steps.next(outputElement.lastPromiseValue);\n",
              "  return Promise.resolve(next.value.promise).then((value) => {\n",
              "    // Cache the last promise value to make it available to the next\n",
              "    // step of the generator.\n",
              "    outputElement.lastPromiseValue = value;\n",
              "    return next.value.response;\n",
              "  });\n",
              "}\n",
              "\n",
              "/**\n",
              " * Generator function which is called between each async step of the upload\n",
              " * process.\n",
              " * @param {string} inputId Element ID of the input file picker element.\n",
              " * @param {string} outputId Element ID of the output display.\n",
              " * @return {!Iterable<!Object>} Iterable of next steps.\n",
              " */\n",
              "function* uploadFilesStep(inputId, outputId) {\n",
              "  const inputElement = document.getElementById(inputId);\n",
              "  inputElement.disabled = false;\n",
              "\n",
              "  const outputElement = document.getElementById(outputId);\n",
              "  outputElement.innerHTML = '';\n",
              "\n",
              "  const pickedPromise = new Promise((resolve) => {\n",
              "    inputElement.addEventListener('change', (e) => {\n",
              "      resolve(e.target.files);\n",
              "    });\n",
              "  });\n",
              "\n",
              "  const cancel = document.createElement('button');\n",
              "  inputElement.parentElement.appendChild(cancel);\n",
              "  cancel.textContent = 'Cancel upload';\n",
              "  const cancelPromise = new Promise((resolve) => {\n",
              "    cancel.onclick = () => {\n",
              "      resolve(null);\n",
              "    };\n",
              "  });\n",
              "\n",
              "  // Wait for the user to pick the files.\n",
              "  const files = yield {\n",
              "    promise: Promise.race([pickedPromise, cancelPromise]),\n",
              "    response: {\n",
              "      action: 'starting',\n",
              "    }\n",
              "  };\n",
              "\n",
              "  cancel.remove();\n",
              "\n",
              "  // Disable the input element since further picks are not allowed.\n",
              "  inputElement.disabled = true;\n",
              "\n",
              "  if (!files) {\n",
              "    return {\n",
              "      response: {\n",
              "        action: 'complete',\n",
              "      }\n",
              "    };\n",
              "  }\n",
              "\n",
              "  for (const file of files) {\n",
              "    const li = document.createElement('li');\n",
              "    li.append(span(file.name, {fontWeight: 'bold'}));\n",
              "    li.append(span(\n",
              "        `(${file.type || 'n/a'}) - ${file.size} bytes, ` +\n",
              "        `last modified: ${\n",
              "            file.lastModifiedDate ? file.lastModifiedDate.toLocaleDateString() :\n",
              "                                    'n/a'} - `));\n",
              "    const percent = span('0% done');\n",
              "    li.appendChild(percent);\n",
              "\n",
              "    outputElement.appendChild(li);\n",
              "\n",
              "    const fileDataPromise = new Promise((resolve) => {\n",
              "      const reader = new FileReader();\n",
              "      reader.onload = (e) => {\n",
              "        resolve(e.target.result);\n",
              "      };\n",
              "      reader.readAsArrayBuffer(file);\n",
              "    });\n",
              "    // Wait for the data to be ready.\n",
              "    let fileData = yield {\n",
              "      promise: fileDataPromise,\n",
              "      response: {\n",
              "        action: 'continue',\n",
              "      }\n",
              "    };\n",
              "\n",
              "    // Use a chunked sending to avoid message size limits. See b/62115660.\n",
              "    let position = 0;\n",
              "    do {\n",
              "      const length = Math.min(fileData.byteLength - position, MAX_PAYLOAD_SIZE);\n",
              "      const chunk = new Uint8Array(fileData, position, length);\n",
              "      position += length;\n",
              "\n",
              "      const base64 = btoa(String.fromCharCode.apply(null, chunk));\n",
              "      yield {\n",
              "        response: {\n",
              "          action: 'append',\n",
              "          file: file.name,\n",
              "          data: base64,\n",
              "        },\n",
              "      };\n",
              "\n",
              "      let percentDone = fileData.byteLength === 0 ?\n",
              "          100 :\n",
              "          Math.round((position / fileData.byteLength) * 100);\n",
              "      percent.textContent = `${percentDone}% done`;\n",
              "\n",
              "    } while (position < fileData.byteLength);\n",
              "  }\n",
              "\n",
              "  // All done.\n",
              "  yield {\n",
              "    response: {\n",
              "      action: 'complete',\n",
              "    }\n",
              "  };\n",
              "}\n",
              "\n",
              "scope.google = scope.google || {};\n",
              "scope.google.colab = scope.google.colab || {};\n",
              "scope.google.colab._files = {\n",
              "  _uploadFiles,\n",
              "  _uploadFilesContinue,\n",
              "};\n",
              "})(self);\n",
              "</script> "
            ]
          },
          "metadata": {}
        }
      ]
    },
    {
      "cell_type": "code",
      "source": [
        "from google.colab import drive\n",
        "\n",
        "# Attempt to mount using drive._mount() first\n",
        "try:\n",
        "    drive._mount('/content/drive')  # Mount Google Drive\n",
        "    print(\"Drive mounted using drive._mount()\")\n",
        "except Exception as e:\n",
        "    print(f\"drive._mount() failed: {e}\")\n",
        "    # If drive._mount() fails, fall back to drive.mount()\n",
        "    try:\n",
        "        drive.mount('/content/drive', force_remount=True)  # Mount Google Drive with force_remount\n",
        "        print(\"Drive mounted using drive.mount() with force_remount=True\")\n",
        "    except Exception as e:\n",
        "        print(f\"drive.mount() also failed: {e}\")\n",
        "        # If both methods fail, suggest manual steps to the user\n",
        "        print(\"Mounting failed. Please try these steps manually:\")\n",
        "        print(\"1. Go to 'Runtime' -> 'Restart runtime'.\")\n",
        "        print(\"2. Run the drive.mount('/content/drive') command again.\")\n",
        "        print(\"3. Ensure you grant all necessary permissions during authentication.\")\n",
        "\n",
        "\n",
        "processed_data_path = '/content/drive/My Drive/processed_data.csv'  # Specify path in Drive\n",
        "df.to_csv(processed_data_path, index=False)  # Save file to Drive\n",
        "\n",
        "print(f\"Processed data saved to Google Drive at: {processed_data_path}\")"
      ],
      "metadata": {
        "colab": {
          "base_uri": "https://localhost:8080/"
        },
        "id": "H1pxRrw9xth3",
        "outputId": "596857e3-14c9-49ba-c692-978db675d13c"
      },
      "execution_count": null,
      "outputs": [
        {
          "output_type": "stream",
          "name": "stdout",
          "text": [
            "drive._mount() failed: mount failed\n",
            "Mounted at /content/drive\n",
            "Drive mounted using drive.mount() with force_remount=True\n",
            "Processed data saved to Google Drive at: /content/drive/My Drive/processed_data.csv\n"
          ]
        }
      ]
    },
    {
      "cell_type": "code",
      "source": [
        "from google.colab import files\n",
        "files.download('/content/processed_data.csv')"
      ],
      "metadata": {
        "colab": {
          "base_uri": "https://localhost:8080/",
          "height": 17
        },
        "id": "QhBHxHpv8xwF",
        "outputId": "b9d9a396-bc1b-4bee-8b88-2245b9c13b0f"
      },
      "execution_count": null,
      "outputs": [
        {
          "output_type": "display_data",
          "data": {
            "text/plain": [
              "<IPython.core.display.Javascript object>"
            ],
            "application/javascript": [
              "\n",
              "    async function download(id, filename, size) {\n",
              "      if (!google.colab.kernel.accessAllowed) {\n",
              "        return;\n",
              "      }\n",
              "      const div = document.createElement('div');\n",
              "      const label = document.createElement('label');\n",
              "      label.textContent = `Downloading \"${filename}\": `;\n",
              "      div.appendChild(label);\n",
              "      const progress = document.createElement('progress');\n",
              "      progress.max = size;\n",
              "      div.appendChild(progress);\n",
              "      document.body.appendChild(div);\n",
              "\n",
              "      const buffers = [];\n",
              "      let downloaded = 0;\n",
              "\n",
              "      const channel = await google.colab.kernel.comms.open(id);\n",
              "      // Send a message to notify the kernel that we're ready.\n",
              "      channel.send({})\n",
              "\n",
              "      for await (const message of channel.messages) {\n",
              "        // Send a message to notify the kernel that we're ready.\n",
              "        channel.send({})\n",
              "        if (message.buffers) {\n",
              "          for (const buffer of message.buffers) {\n",
              "            buffers.push(buffer);\n",
              "            downloaded += buffer.byteLength;\n",
              "            progress.value = downloaded;\n",
              "          }\n",
              "        }\n",
              "      }\n",
              "      const blob = new Blob(buffers, {type: 'application/binary'});\n",
              "      const a = document.createElement('a');\n",
              "      a.href = window.URL.createObjectURL(blob);\n",
              "      a.download = filename;\n",
              "      div.appendChild(a);\n",
              "      a.click();\n",
              "      div.remove();\n",
              "    }\n",
              "  "
            ]
          },
          "metadata": {}
        },
        {
          "output_type": "display_data",
          "data": {
            "text/plain": [
              "<IPython.core.display.Javascript object>"
            ],
            "application/javascript": [
              "download(\"download_291ad445-75e7-4d48-9d98-c3dea7c53ede\", \"processed_data.csv\", 6648473)"
            ]
          },
          "metadata": {}
        }
      ]
    }
  ]
}